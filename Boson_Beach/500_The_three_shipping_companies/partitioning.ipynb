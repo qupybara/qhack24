{
 "cells": [
  {
   "cell_type": "code",
   "execution_count": 1,
   "metadata": {},
   "outputs": [
    {
     "name": "stdout",
     "output_type": "stream",
     "text": [
      "Running test case 0 with input 'No input'...\n",
      "Correct!\n"
     ]
    },
    {
     "name": "stderr",
     "output_type": "stream",
     "text": [
      "c:\\Users\\Henrique\\Documents\\pennylane\\venv\\Lib\\site-packages\\pennylane\\ops\\qubit\\non_parametric_ops.py:2095: UserWarning: The control_wires keyword will be removed soon. Use wires = (control_wires, target_wire) instead. See the documentation for more information.\n",
      "  warnings.warn(\n"
     ]
    }
   ],
   "source": [
    "import json\n",
    "import pennylane as qml\n",
    "import pennylane.numpy as np\n",
    "\n",
    "def U():\n",
    "    \"\"\"\n",
    "    Quantum circuit that facilitates the distribution of goods.\n",
    "    It should not return anything, you simply need to add the gates.\n",
    "    \"\"\"\n",
    "\n",
    "\n",
    "    # Put your code here #\n",
    "    aux_wires = list(range(10, 13))\n",
    "    t0, t1, t2 = aux_wires[0], aux_wires[1], aux_wires[2]\n",
    "\n",
    "    for c in range(10):\n",
    "        qml.MultiControlledX([c, t0], [t1], '11')\n",
    "        qml.MultiControlledX([c, t0], [t2], '11')\n",
    "        qml.MultiControlledX([c, t1], [t0], '10')\n",
    "\n",
    "    for wire in range(10):\n",
    "        qml.MultiControlledX([t0, t1, t2], wire, '100')\n",
    "\n",
    "    qml.SWAP([t0, t1])\n",
    "    qml.MultiControlledX([t1, t2], 9, '11')\n",
    "    qml.ctrl(qml.SWAP, [t1, t2], [1, 1])([9, t0])\n",
    "\n",
    "    for wire in range(9):\n",
    "        qml.MultiControlledX([t0, t1, t2], wire, '011')\n",
    "\n",
    "def run(test_case_input: str) -> str:\n",
    "    return None\n",
    "\n",
    "\n",
    "def check(have: str, want: str) -> None:\n",
    "    have, want = have, want\n",
    "    params = np.random.rand(10, 2)\n",
    "\n",
    "    dev = qml.device(\"default.qubit\", wires=13, shots=1000)\n",
    "\n",
    "    def generate_phi(params, wires):\n",
    "        for i in range(len(wires)):\n",
    "            qml.RX(params[i][0], wires=wires[i])\n",
    "\n",
    "        for i in range(len(wires) - 1):\n",
    "            qml.CNOT(wires=[i, i + 1])\n",
    "\n",
    "        for i in range(len(wires)):\n",
    "            qml.RX(params[i][1], wires=wires[i])\n",
    "\n",
    "    @qml.qnode(dev)\n",
    "    def circuit():\n",
    "        generate_phi(params, wires=range(10))\n",
    "        U()\n",
    "        return qml.sample(wires=range(10))\n",
    "\n",
    "    shots = circuit()\n",
    "    for shot in shots:\n",
    "        assert sum(shot) % 3 == 0, \"Wrong answer\"\n",
    "\n",
    "    for op in circuit.tape.operations:\n",
    "        assert not isinstance(op, qml.QubitUnitary), \"You can't use QubitUnitary\"\n",
    "        assert not isinstance(op, qml.measurements.mid_measure.MidMeasureMP), \"You cannot use measurements\"\n",
    "\n",
    "\n",
    "# These are the public test cases\n",
    "test_cases = [\n",
    "    ('No input', 'No output')\n",
    "]\n",
    "\n",
    "# This will run the public test cases locally\n",
    "for i, (input_, expected_output) in enumerate(test_cases):\n",
    "    print(f\"Running test case {i} with input '{input_}'...\")\n",
    "\n",
    "    try:\n",
    "        output = run(input_)\n",
    "\n",
    "    except Exception as exc:\n",
    "        print(f\"Runtime Error. {exc}\")\n",
    "\n",
    "    else:\n",
    "        if message := check(output, expected_output):\n",
    "            print(f\"Wrong Answer. Have: '{output}'. Want: '{expected_output}'.\")\n",
    "\n",
    "        else:\n",
    "            print(\"Correct!\")"
   ]
  }
 ],
 "metadata": {
  "kernelspec": {
   "display_name": "venv",
   "language": "python",
   "name": "python3"
  },
  "language_info": {
   "codemirror_mode": {
    "name": "ipython",
    "version": 3
   },
   "file_extension": ".py",
   "mimetype": "text/x-python",
   "name": "python",
   "nbconvert_exporter": "python",
   "pygments_lexer": "ipython3",
   "version": "3.11.8"
  }
 },
 "nbformat": 4,
 "nbformat_minor": 2
}
